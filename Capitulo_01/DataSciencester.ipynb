{
 "cells": [
  {
   "cell_type": "markdown",
   "id": "87228f9c-f00f-4225-ad8b-6f454d4b3eb3",
   "metadata": {},
   "source": [
    "# DataSciencester - Código"
   ]
  },
  {
   "cell_type": "markdown",
   "id": "56b1ec49-afa9-47ff-a06a-2bab95a274f3",
   "metadata": {},
   "source": [
    "Vamos representar os usuários da rede social Data Sciencester com um datadump -  uma lista em que cada usuário é representado por um dict, que contém o seu **id** e seu **name**."
   ]
  },
  {
   "cell_type": "markdown",
   "id": "d2019d97-9d10-4aa8-9c10-7ecd2a69c4f7",
   "metadata": {
    "tags": []
   },
   "source": [
    "## Encontrando conectores chave"
   ]
  },
  {
   "cell_type": "code",
   "execution_count": 1,
   "id": "726a05ee-7e79-4f48-81f9-1c45356042d4",
   "metadata": {
    "tags": []
   },
   "outputs": [],
   "source": [
    "users = [\n",
    "    {\"id\": 0, \"name\" : \"Oda\"},\n",
    "    {\"id\": 1, \"name\" : \"Boichi\"},\n",
    "    {\"id\": 2, \"name\" : \"Thomas\"},\n",
    "    {\"id\": 3, \"name\" : \"Chongao\"},\n",
    "    {\"id\": 4, \"name\" : \"Darwin\"},\n",
    "    {\"id\": 5, \"name\" : \"Mandela\"},\n",
    "    {\"id\": 6, \"name\" : \"Marx\"},\n",
    "    {\"id\": 7, \"name\" : \"Alli\"},\n",
    "    {\"id\": 8, \"name\" : \"Lovelace\"},\n",
    "    {\"id\": 9, \"name\" : \"Roussef\"},\n",
    "]"
   ]
  },
  {
   "cell_type": "markdown",
   "id": "73306f80-187a-4001-bf3e-10f28495b8d5",
   "metadata": {},
   "source": [
    "Também poderíamos representar as amizades entre os usuários com uma lista de pares de IDs (**tuplas**):"
   ]
  },
  {
   "cell_type": "code",
   "execution_count": 2,
   "id": "29ffd72a-15d2-4e62-bcbf-f0a68d1e2687",
   "metadata": {
    "tags": []
   },
   "outputs": [],
   "source": [
    "friendship_pairs = [(0, 1), (0, 2), (1, 2), (1, 3), (2, 3), (3, 4), (4, 5), (5, 6), (5, 7), (6, 8), (7, 8), (8, 9)]"
   ]
  },
  {
   "cell_type": "markdown",
   "id": "505bdbf7-7f43-4663-aaf3-7840921016f2",
   "metadata": {},
   "source": [
    "Mas representar dessa forma não parece muito eficiente, pois para contar o número de amizades de um usuário, seria preciso iterar todos os pares e saber se este usuário está presente nas tuplas. Por isso iremos criar um dict no qual as chaves são os ids dos usuários e os valores serão listas com os ids dos amigos (pesquisar em dicts é muito mais rápido):"
   ]
  },
  {
   "cell_type": "code",
   "execution_count": 3,
   "id": "91bb196b-d537-4db2-b1ca-c7564b6d3929",
   "metadata": {
    "tags": []
   },
   "outputs": [],
   "source": [
    "# Inicialize o dict com uma lista vazia para cada id de usuário\n",
    "friendships = {user[\"id\"]: [] for user in users} # Utilizando um for de user in users dentro do dict para preencher uma lista de dicts de users\n",
    "\n",
    "# Em seguida, execute um loop pelos pares de amigos para preenchê-la\n",
    "for i,j in friendship_pairs:\n",
    "    friendships[i].append(j) # Adicione o j como amigo do usuário i\n",
    "    friendships[j].append(i) # Adicione o i como amigo do usuário j"
   ]
  },
  {
   "cell_type": "code",
   "execution_count": 10,
   "id": "3beffab9-25ee-4e14-8fa4-6d7c46de217d",
   "metadata": {
    "tags": []
   },
   "outputs": [
    {
     "data": {
      "text/plain": [
       "{0: [1, 2],\n",
       " 1: [0, 2, 3],\n",
       " 2: [0, 1, 3],\n",
       " 3: [1, 2, 4],\n",
       " 4: [3, 5],\n",
       " 5: [4, 6, 7],\n",
       " 6: [5, 8],\n",
       " 7: [5, 8],\n",
       " 8: [6, 7, 9],\n",
       " 9: [8]}"
      ]
     },
     "execution_count": 10,
     "metadata": {},
     "output_type": "execute_result"
    }
   ],
   "source": [
    "friendships"
   ]
  },
  {
   "cell_type": "code",
   "execution_count": 4,
   "id": "8fb7a1ee-e6f9-43b3-b015-70e352eb7b84",
   "metadata": {
    "tags": []
   },
   "outputs": [
    {
     "data": {
      "text/plain": [
       "2.4"
      ]
     },
     "execution_count": 4,
     "metadata": {},
     "output_type": "execute_result"
    }
   ],
   "source": [
    "# Qual número médio de conexões? \n",
    "def number_of_friends(user):\n",
    "    \"\"\" Quantos amigos tem o _user_? \"\"\"\n",
    "    user_id = user[\"id\"]\n",
    "    friend_ids = friendships[user_id]\n",
    "    return len(friend_ids)\n",
    "\n",
    "total_connections = sum(number_of_friends(user) for user in users) # Calculando o total de amigos\n",
    "\n",
    "num_users = len(users) # Tamanho da lista de usuários\n",
    "avg_connections = total_connections / num_users # Número médio de conexões\n",
    "\n",
    "avg_connections"
   ]
  },
  {
   "cell_type": "markdown",
   "id": "3ac1e4ba-c4b7-462f-a127-c1a343224c8a",
   "metadata": {},
   "source": [
    "Também é fácil encontrar pessoas mais conectadas. Como o número de usuários não é muito grande, podemos colocá-los em ordem descrecente, dos que têm \"mais amigos\" para os que têm \"menos amigos\"."
   ]
  },
  {
   "cell_type": "code",
   "execution_count": 5,
   "id": "148b2437-6675-455c-8e64-d6de0c459053",
   "metadata": {
    "tags": []
   },
   "outputs": [
    {
     "data": {
      "text/plain": [
       "[(1, 3),\n",
       " (2, 3),\n",
       " (3, 3),\n",
       " (5, 3),\n",
       " (8, 3),\n",
       " (0, 2),\n",
       " (4, 2),\n",
       " (6, 2),\n",
       " (7, 2),\n",
       " (9, 1)]"
      ]
     },
     "execution_count": 5,
     "metadata": {},
     "output_type": "execute_result"
    }
   ],
   "source": [
    "# Crie uma lista (user_id, number_of_friends)\n",
    "\n",
    "num_friends_by_id = [(user[\"id\"], number_of_friends(user)) for user in users]\n",
    "\n",
    "num_friends_by_id.sort(key=lambda id_and_friends: id_and_friends[1], reverse=True) # Classifique a lista por num_friends do maior para o menor\n",
    "\n",
    "num_friends_by_id # Cada par é (user_id,  num_friends)"
   ]
  },
  {
   "cell_type": "markdown",
   "id": "758ba388-dcff-4384-8e0e-caa5248b276a",
   "metadata": {},
   "source": [
    "## Cientista de Dados que você talvez conheça"
   ]
  },
  {
   "cell_type": "code",
   "execution_count": null,
   "id": "f9c51dbc-09db-49da-a5e8-f7f427f9f83f",
   "metadata": {},
   "outputs": [],
   "source": []
  }
 ],
 "metadata": {
  "kernelspec": {
   "display_name": "Python 3 (ipykernel)",
   "language": "python",
   "name": "python3"
  },
  "language_info": {
   "codemirror_mode": {
    "name": "ipython",
    "version": 3
   },
   "file_extension": ".py",
   "mimetype": "text/x-python",
   "name": "python",
   "nbconvert_exporter": "python",
   "pygments_lexer": "ipython3",
   "version": "3.11.5"
  }
 },
 "nbformat": 4,
 "nbformat_minor": 5
}
